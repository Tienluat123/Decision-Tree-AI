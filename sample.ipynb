{
 "cells": [
  {
   "cell_type": "markdown",
   "id": "d856e085-3fe4-4d4e-9b0f-6937c94bceea",
   "metadata": {},
   "source": [
    "# 1.1 Install scikit-learn & required library\n",
    "This project require numpy, pandas, matplotlib,... and scikit-learn be installed. Run the following code to install the requirements."
   ]
  },
  {
   "metadata": {},
   "cell_type": "code",
   "source": [
    "!python -m pip install -U scikit-learn\n",
    "!python -m pip show scikit-learn\n",
    "!python -c \"import sklearn; sklearn.show_versions()\"\n",
    "!python -m pip install matplotlib\n",
    "import matplotlib.pyplot as plt\n",
    "import numpy as np\n",
    "import pandas as pd"
   ],
   "id": "339582bf455d7835",
   "outputs": [],
   "execution_count": null
  },
  {
   "metadata": {},
   "cell_type": "markdown",
   "source": [
    "# 1.2 Preparing the datasets\n",
    "The following code will download two dataset (palmerpenguins, heart-disease) from URLs then put them into a dictionary.\n",
    "\n",
    "• Binary class dataset: The [UCI Heart Disease dataset](https://archive.ics.uci.edu/dataset/45/heart+disease) is used for classifying whether a\n",
    "patient has a heart disease or not based on age, blood pressure, cholesterol level, and other\n",
    "medical indicators. This dataset includes 303 samples, with labels indicating presence (1) or\n",
    "absence (0) of heart disease. Experiments with the Cleveland database have concentrated on\n",
    "simply attempting to distinguish presence (values 1,2,3,4) from absence (value 0).\n",
    "\n",
    "• Multi-class dataset: The [Palmer Penguins dataset](https://archive.ics.uci.edu/dataset/690/palmer+penguins-3) is used for classifying penguin species\n",
    "based on physical characteristics. The dataset includes 344 samples of three penguin species:\n",
    "Adelie, Chinstrap, and Gentoo, with features such as bill length, flipper length, body mass,\n",
    "and sex.\n"
   ],
   "id": "143716e58c1cc261"
  },
  {
   "metadata": {},
   "cell_type": "code",
   "source": [
    "datasets = {}\n",
    "palmerpenguins_db_url = \"https://raw.githubusercontent.com/allisonhorst/palmerpenguins/refs/heads/main/inst/extdata/penguins.csv\"\n",
    "heart_disease_db_url = \"https://archive.ics.uci.edu/ml/machine-learning-databases/heart-disease/processed.cleveland.data\"\n",
    "heart_disease_columns = [\"age\", \"sex\", \"cp\", \"trestbps\", \"chol\", \"fbs\", \"restecg\", \"thalach\", \"exang\", \"oldpeak\", \"slope\", \"ca\", \"thal\", \"num\"]\n",
    "\n",
    "datasets_items = ['palmerpenguins', 'heart-disease']\n",
    "datasets[datasets_items[0]] = pd.read_csv(palmerpenguins_db_url)\n",
    "datasets[datasets_items[1]] = pd.read_csv(heart_disease_db_url, names=heart_disease_columns, na_values='?')\n",
    "\n",
    "print(datasets)"
   ],
   "id": "f62eda7354ac70b7",
   "outputs": [],
   "execution_count": null
  },
  {
   "metadata": {},
   "cell_type": "markdown",
   "source": "",
   "id": "3f7fc10cb0bc1f30"
  }
 ],
 "metadata": {
  "kernelspec": {
   "display_name": "Python 3 (ipykernel)",
   "language": "python",
   "name": "python3"
  },
  "language_info": {
   "codemirror_mode": {
    "name": "ipython",
    "version": 3
   },
   "file_extension": ".py",
   "mimetype": "text/x-python",
   "name": "python",
   "nbconvert_exporter": "python",
   "pygments_lexer": "ipython3",
   "version": "3.12.4"
  }
 },
 "nbformat": 4,
 "nbformat_minor": 5
}
